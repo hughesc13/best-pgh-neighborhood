{
 "cells": [
  {
   "cell_type": "markdown",
   "id": "6b705815-2bab-48af-9405-0a28479a907a",
   "metadata": {},
   "source": [
    "## Introduction\n",
    "\n",
    "We set out to answer a fun but subjective question:\n",
    "\n",
    "### *What is the best neighborhood to live in during the summer in Pittsburgh?*\n",
    "\n",
    "![Alt Text](https://images.squarespace-cdn.com/content/v1/57d6004f8419c258721e9426/1562682522416-277XW0O2HS8IJIA276Q6/The+Duquesne+Incline)\n",
    "\n",
    "\n",
    "Since \"best\" is open to interpretation, very subjective, we decided to focus on **amenities that are especially valuable during the summer** — spaces for cooling off, gathering, and playing outdoors. \n",
    "\n",
    "### Our Metrics:\n",
    "We used the following criteria to evaluate each neighborhood:\n",
    "\n",
    "<img src=\"playground_image.jpg\" width=\"600\"/>\n",
    "\n",
    "- **Where is the most playground equipment located?**  \n",
    "  Playgrounds are essential for families with children and encourage outdoor play and community interaction.\n",
    "\n",
    "<img src=\"shelter_image.jpg\" width=\"600\"/>\n",
    "\n",
    "- **Where are the most shelters located?**  \n",
    "  Shelters provide shaded and covered spaces for picnics, events, and rest, especially useful on hot or rainy days.\n",
    "\n",
    "<img src=\"schenley_pool.jpg\" width=\"600\"/>\n",
    "\n",
    "- **Which neighborhoods have public pools?**  \n",
    "  Pools are a classic summer staple — perfect for cooling off, exercising, and socializing.\n",
    "\n",
    "---\n",
    "We retrieved the associated datasets from the WPRDC. These datasets offer a concrete way to assess which neighborhoods are rich in public amenities that enhance quality of life during Pittsburgh’s summer months!\n"
   ]
  },
  {
   "cell_type": "markdown",
   "id": "6daee4b2-1ce4-469f-ab1d-c000ab5cb7d4",
   "metadata": {},
   "source": [
    "Now let's get to coding!\n",
    "First we need to run our imports:"
   ]
  },
  {
   "cell_type": "code",
   "execution_count": 5,
   "id": "53c8a9e8-7fc9-425d-9501-47c92a8da82b",
   "metadata": {},
   "outputs": [],
   "source": [
    "import pandas as pd\n",
    "import numpy as np\n",
    "%matplotlib inline\n",
    "import matplotlib.pyplot as plt\n",
    "import geopandas"
   ]
  },
  {
   "cell_type": "markdown",
   "id": "04fb6f72-3fc0-4a9f-b428-aa7e5d6d7e31",
   "metadata": {},
   "source": [
    "Below we begin data analysis by combining our metrics.\n",
    "We read in each dataset.\n",
    "\n",
    "One issue we had is that the original WPRDC shelters dataset had locations as parks and street names, but not neighborhoods. So the dataset we use here is not the one from WPRDC, but our own where we added a neighborhood column\n",
    "to the shelters datasheet."
   ]
  },
  {
   "cell_type": "code",
   "execution_count": 6,
   "id": "ef87402d-ce85-4605-8e61-bcccbbb90c30",
   "metadata": {
    "scrolled": true
   },
   "outputs": [],
   "source": [
    "#NOTE: each of these datasets has a column called \"neighborhood\"\n",
    "playground_equip = pd.read_csv(\"Playground_Equiptment.csv\")  \n",
    "pools = pd.read_csv(\"Pools.csv\")\n",
    "shel = pd.read_csv(\"shelters_with_neighborhood_locations.csv\")"
   ]
  },
  {
   "cell_type": "markdown",
   "id": "331b93b2-77c9-4442-a680-98f577e54566",
   "metadata": {},
   "source": [
    "Below, we get value counts for each entity (playground equiptment, pool, or shelter) by neighborhood.\n",
    "\n",
    "We used these pandas methods:\n",
    "`.groupby()` sorts by neighborhood,\n",
    "`.size()` counts how many rows there are,\n",
    "`.rename()` gives the name of the resulting series."
   ]
  },
  {
   "cell_type": "code",
   "execution_count": 7,
   "id": "c035d31c-1572-42b1-8b89-8314f615b7d1",
   "metadata": {},
   "outputs": [
    {
     "name": "stdout",
     "output_type": "stream",
     "text": [
      "Playground equipment count:\n",
      "neighborhood\n",
      "Allegheny Center       15\n",
      "Allentown               4\n",
      "Banksville              6\n",
      "Bedford Dwellings       3\n",
      "Beechview              21\n",
      "                       ..\n",
      "Upper Lawrenceville     5\n",
      "West End                3\n",
      "West Oakland            1\n",
      "Westwood                2\n",
      "Windgap                 5\n",
      "Name: play_count, Length: 68, dtype: int64 \n",
      "\n",
      "pool count:\n",
      "neighborhood\n",
      "Allegheny Center            1\n",
      "Banksville                  1\n",
      "Bedford Dwellings           1\n",
      "Beechview                   1\n",
      "Beltzhoover                 1\n",
      "Bloomfield                  1\n",
      "Brighton Heights            1\n",
      "Brookline                   1\n",
      "Carrick                     1\n",
      "East Hills                  1\n",
      "Greenfield                  1\n",
      "Hazelwood                   1\n",
      "Highland Park               2\n",
      "Homewood South              1\n",
      "Lincoln Place               1\n",
      "Lincoln-Lemington-Belmar    1\n",
      "Mount Washington            1\n",
      "Perry North                 1\n",
      "Polish Hill                 1\n",
      "Shadyside                   1\n",
      "Sheraden                    1\n",
      "South Side Flats            2\n",
      "South Side Slopes           1\n",
      "Squirrel Hill South         1\n",
      "Troy Hill                   1\n",
      "Westwood                    1\n",
      "Name: pool_count, dtype: int64 \n",
      "\n",
      "shelter count:\n",
      "neighborhood\n",
      "Beltzhoover                  1\n",
      "Elliott                      1\n",
      "Fox Chapel                   1\n",
      "Highland Park               11\n",
      "Lincoln Place                1\n",
      "Lincoln–Lemington–Belmar     1\n",
      "Oakland                      2\n",
      "Perry North                  2\n",
      "Point Breeze                 1\n",
      "Regent Square                1\n",
      "Sheraden                     1\n",
      "Squirrel Hill                3\n",
      "Westwood                     1\n",
      "Name: shelter_count, dtype: int64 \n",
      "\n"
     ]
    }
   ],
   "source": [
    "pge_counts = (playground_equip\n",
    "             .groupby(\"neighborhood\")\n",
    "             .size()\n",
    "             .rename(\"play_count\"))\n",
    "#This groups playground equiptment entries by neighborhood and counts how many rows each neighborhood has\n",
    "#meaning it counts how many playground equiptment there are in each neighborhood\n",
    "\n",
    "print(f\"Playground equipment count:\\n{pge_counts} \\n\")\n",
    "\n",
    "\n",
    "# 2b. pools\n",
    "pool_counts = (pools\n",
    "               .groupby(\"neighborhood\")\n",
    "               .size()\n",
    "               .rename(\"pool_count\"))\n",
    "\n",
    "print(f\"pool count:\\n{pool_counts} \\n\")\n",
    "\n",
    "# 2c. shelters \n",
    "shel_counts = (shel\n",
    "               .groupby(\"neighborhood\")\n",
    "               .size()\n",
    "               .rename(\"shelter_count\"))\n",
    "print(f\"shelter count:\\n{shel_counts} \\n\")"
   ]
  },
  {
   "cell_type": "markdown",
   "id": "83868618-3687-4bb6-a8c6-70b8536edf99",
   "metadata": {},
   "source": [
    "Now that we have our counts, how do we combine them?\n",
    "\n",
    "The code below creates a list of **all** the neighborhoods that appear in any of our three datasets. \n",
    "The index of each of our series (`pge_counts`, `pool_counts`, `shel_counts`) is a neighborhood, since each of these are series containing neighborhoods and associated values.\n",
    "It uses the `.index.union()`, which if you know anything about set theory is a union operation. This means every value will be included in the final result.\n",
    "Therefore, after unioning these three datasets on their indexes, we now have a list of all the neighborhoods mentioned in any of our datasets!\n",
    "\n",
    "\n",
    "With this list, we initialize a new dataframe to work with. This gives us the work room to do our final calculations.\n"
   ]
  },
  {
   "cell_type": "code",
   "execution_count": 8,
   "id": "0046e61c-641c-4ac3-9d48-04b06f61075b",
   "metadata": {},
   "outputs": [
    {
     "name": "stdout",
     "output_type": "stream",
     "text": [
      "Empty DataFrame\n",
      "Columns: []\n",
      "Index: [Allegheny Center, Allentown, Banksville, Bedford Dwellings, Beechview, Beltzhoover, Bloomfield, Bluff, Bon Air, Brighton Heights, Brookline, Carrick, Central Lawrenceville, Central Northside, Central Oakland, Crafton Heights, Crawford-Roberts, Duquesne Heights, East Allegheny, East Carnegie, East Hills, East Liberty, Elliott, Esplen, Fairywood, Fineview, Fox Chapel, Garfield, Greenfield, Hays, Hazelwood, Highland Park, Homewood North, Homewood South, Homewood West, Larimer, Lincoln Place, Lincoln-Lemington-Belmar, Lincoln–Lemington–Belmar, Lower Lawrenceville, Manchester, Marshall-Shadeland, Middle Hill, Morningside, Mount Washington, New Homestead, Oakland, Oakwood, Perry North, Perry South, Point Breeze, Point Breeze North, Polish Hill, Regent Square, Shadyside, Sheraden, South Oakland, South Side Flats, South Side Slopes, Spring Garden, Spring Hill-City View, Squirrel Hill, Squirrel Hill North, Squirrel Hill South, Stanton Heights, Strip District, Swisshelm Park, Terrace Village, Troy Hill, Upper Hill, Upper Lawrenceville, West End, West Oakland, Westwood, Windgap]\n",
      "\n",
      "[75 rows x 0 columns]\n"
     ]
    }
   ],
   "source": [
    "\n",
    "all_neighborhoods = pge_counts.index.union(pool_counts.index).union(shel_counts.index)\n",
    "df = pd.DataFrame(index=all_neighborhoods)\n",
    "\n",
    "print(df)"
   ]
  },
  {
   "cell_type": "markdown",
   "id": "4c2bb2dd-eee7-4831-b78d-ef02d41e02b3",
   "metadata": {},
   "source": [
    "In the code below, we add our count values into the dataframe we just created.\n",
    "\n",
    "For example, the first line of code creates a new column in our dataframe called \"play_count\".\n",
    "It takes pge_counts (count of playground equiptment per neighborhood) and reindexes it to match the full list of neighborhoods (all_neighborhoods).\n"
   ]
  },
  {
   "cell_type": "code",
   "execution_count": 9,
   "id": "b3ed449e-2ca2-471d-bf38-842c447d19c4",
   "metadata": {},
   "outputs": [
    {
     "name": "stdout",
     "output_type": "stream",
     "text": [
      "neighborhood\n",
      "Allegheny Center       15\n",
      "Allentown               4\n",
      "Banksville              6\n",
      "Bedford Dwellings       3\n",
      "Beechview              21\n",
      "                       ..\n",
      "Upper Lawrenceville     5\n",
      "West End                3\n",
      "West Oakland            1\n",
      "Westwood                2\n",
      "Windgap                 5\n",
      "Name: play_count, Length: 75, dtype: int64\n"
     ]
    }
   ],
   "source": [
    " # 4. Add the counts into the DataFrame\n",
    "df[\"play_count\"] = pge_counts.reindex(all_neighborhoods, fill_value=0)\n",
    "df[\"pool_count\"] = pool_counts.reindex(all_neighborhoods, fill_value=0)\n",
    "df[\"shelter_count\"] = shel_counts.reindex(all_neighborhoods, fill_value=0)\n",
    "\n",
    "print(df[\"play_count\"])"
   ]
  },
  {
   "cell_type": "markdown",
   "id": "55900e89-1baa-48cf-b764-78edf147572f",
   "metadata": {},
   "source": [
    "To evaluate each neighborhood evenly, we decided to use a weighted point system.\n",
    "\n",
    "A pool would be worth 10 points, a shelter 5 points, and a piece of playground equiptment 1 point.\n",
    "These weights were chosen based on the level of infrastructure, cost, and community value associated with each resource:\n",
    "\n",
    "- Pools are more expensive to build and maintain, and serve a wide population—hence the highest weight.\n",
    "\n",
    "- Shelters offer protected space and are essential for group gatherings or emergency use, making them moderately weighted.\n",
    "\n",
    "- Playground equipment is still valuable, especially for children’s recreation, but each item is relatively small in scale.\n",
    "\n",
    "Below we created a dictionary defining these weights.\n",
    "\n",
    "In our df DataFrame, we calculate a new column called score, which totals up the number of each amenity (pool, shelter, playground equiptment) in a neighborhood multiplied by its respective weight. This gives us a single number to compare neighborhoods more easily.\n",
    "Our dataframe is printed out so you can see what this calculates to."
   ]
  },
  {
   "cell_type": "code",
   "execution_count": 15,
   "id": "ca27694b-7530-456a-bf35-1d223c501e47",
   "metadata": {},
   "outputs": [
    {
     "name": "stdout",
     "output_type": "stream",
     "text": [
      "                     play_count  pool_count  shelter_count  score\n",
      "neighborhood                                                     \n",
      "Allegheny Center             15           1              0     25\n",
      "Allentown                     4           0              0      4\n",
      "Banksville                    6           1              0     16\n",
      "Bedford Dwellings             3           1              0     13\n",
      "Beechview                    21           1              0     31\n",
      "...                         ...         ...            ...    ...\n",
      "Upper Lawrenceville           5           0              0      5\n",
      "West End                      3           0              0      3\n",
      "West Oakland                  1           0              0      1\n",
      "Westwood                      2           1              1     17\n",
      "Windgap                       5           0              0      5\n",
      "\n",
      "[75 rows x 4 columns]\n"
     ]
    }
   ],
   "source": [
    "\n",
    "WEIGHTS = {\n",
    "    \"pool_count\": 10,\n",
    "    \"shelter_count\": 5,\n",
    "    \"play_count\": 1\n",
    "}\n",
    "df[\"score\"] = (\n",
    "    df[\"pool_count\"] * WEIGHTS[\"pool_count\"] +\n",
    "    df[\"shelter_count\"] * WEIGHTS[\"shelter_count\"] +\n",
    "    df[\"play_count\"] * WEIGHTS[\"play_count\"]\n",
    ")\n",
    "\n",
    "print(df)"
   ]
  },
  {
   "cell_type": "markdown",
   "id": "929aafa7-c4ed-4e57-9735-5261147dac0b",
   "metadata": {},
   "source": [
    "Next, we determine our top neighborhoods based on our weighted point system!\n",
    "and let's graph it!\n",
    "\n",
    "To make our graph easy to read and understandable, we had to do some customization.\n",
    "\n",
    "First we create a figure (fig) and axes (ax) object to plot on. figsize=(10, 5) sets the width and height of the plot in inches.\n",
    "`top[\"score\"].head(10).plot(kind=\"bar\", ax=ax)` Plots a bar chart of the top 10 neighborhoods ranked by the score column. Top refers to the dataframe where we sorted our neighborhods by descending score order.\n",
    "\n",
    "The rest of the code here is mostly self explanatory - giving our graph a title, labels, and making sure it's legible with label rotations.\n"
   ]
  },
  {
   "cell_type": "code",
   "execution_count": 14,
   "id": "89657ffb-6f70-4429-91fd-7c9f96eef5a4",
   "metadata": {},
   "outputs": [
    {
     "name": "stdout",
     "output_type": "stream",
     "text": [
      "                     play_count  pool_count  shelter_count  score\n",
      "neighborhood                                                     \n",
      "Highland Park                10           2             11     85\n",
      "Squirrel Hill South          32           1              0     42\n",
      "Beechview                    21           1              0     31\n",
      "Sheraden                     13           1              1     28\n",
      "East Liberty                 26           0              0     26\n",
      "Perry North                   6           1              2     26\n",
      "Beltzhoover                  10           1              1     25\n",
      "Allegheny Center             15           1              0     25\n",
      "South Side Flats              5           2              0     25\n",
      "South Side Slopes            14           1              0     24\n"
     ]
    },
    {
     "data": {
      "image/png": "[encoded data removed]",
      "text/plain": [
       "<Figure size 1000x500 with 1 Axes>"
      ]
     },
     "metadata": {},
     "output_type": "display_data"
    }
   ],
   "source": [
    "#sort and display top neighborhoods\n",
    "top = df.sort_values(\"score\", ascending=False)\n",
    "print(top.head(10))\n",
    "\n",
    "\n",
    "fig, ax = plt.subplots(figsize=(10, 5))\n",
    "top[\"score\"].head(10).plot(kind=\"bar\", ax=ax)\n",
    "ax.set_ylabel(\"Total Points\")\n",
    "ax.set_title(\"Top 10 Neighborhoods\")\n",
    "plt.xticks(rotation=45, ha=\"right\")\n",
    "plt.tight_layout()#automatically adjusts spacing so nothing is cut off or overlaps\n",
    "plt.show()\n"
   ]
  },
  {
   "cell_type": "markdown",
   "id": "a5d423cf-8841-46fc-9c26-e1a18feb64cf",
   "metadata": {},
   "source": [
    "**Conclusion**\n",
    "\n",
    "To identify the best neighborhood in Pittsburgh to live in in the summer, our team developed a point-based system. We assigned points based on the number of playgrounds (1 point each), shelters (5 points each), and pools (10 points each). This scoring method enabled us to fairly compare neighborhoods by weighing different types of amenities according to their significance and availability. In our project, Highland Park ranked as the top neighborhood for summer recreational amenities, with a total of 85 points. This is largely due to its high number of shelters (11), as well as presence of multiple pools (2) and playgrounds (10). This combination shows that Highland Park excels in multiple areas, offering diverse and plentiful recreational resources for the community, and it is an ideal place for families, group gatherings, and individual leisure activities, especially in the warm summer weather! This scoring method gave our team a fair, data-driven way to reconcile different findings and reach a shared conclusion to find the best neighborhood in Pittsburgh.\n",
    "\n",
    "\n",
    "![Alt Text](https://dynamic-media-cdn.tripadvisor.com/media/photo-o/11/fa/99/7b/the-parks-conservancy.jpg?w=1200&h=1200&s=1)"
   ]
  }
 ],
 "metadata": {
  "kernelspec": {
   "display_name": "Python 3 (ipykernel)",
   "language": "python",
   "name": "python3"
  },
  "language_info": {
   "codemirror_mode": {
    "name": "ipython",
    "version": 3
   },
   "file_extension": ".py",
   "mimetype": "text/x-python",
   "name": "python",
   "nbconvert_exporter": "python",
   "pygments_lexer": "ipython3",
   "version": "3.11.5"
  }
 },
 "nbformat": 4,
 "nbformat_minor": 5
}
