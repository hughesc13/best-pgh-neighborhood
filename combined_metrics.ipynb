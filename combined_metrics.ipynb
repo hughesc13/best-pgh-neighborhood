{
 "cells": [
  {
   "cell_type": "markdown",
   "id": "62e56313-fd92-4b59-bf05-277594dbed04",
   "metadata": {},
   "source": [
    "This is where we will do our final evaluation of combining all our metrics!"
   ]
  },
  {
   "cell_type": "markdown",
   "id": "6a8acb21-7eea-4ae3-9a78-7e53bd4bb05a",
   "metadata": {},
   "source": [
    "idea:\n",
    "a pool is worth 10 points\n",
    "a shelter is worth 5 points\n",
    "and a playground equiptment is worth 1 point\n",
    "the neighborhood with highest total points wins"
   ]
  },
  {
   "cell_type": "markdown",
   "id": "6b705815-2bab-48af-9405-0a28479a907a",
   "metadata": {},
   "source": [
    "Introduction:\n",
    "\n",
    "We decided to find the best neighborhood to live in in the summer in Pittsburgh!\n",
    "Obviously, this is very subjective. \n",
    "So the metrics we used to measure this were:\n",
    "\n",
    "Public pools located in which neighborhoods?\n",
    "Where is the most playground equiptment located?\n",
    "Where are the most shelters located?"
   ]
  },
  {
   "cell_type": "markdown",
   "id": "7e2c5474-5866-4ff1-9941-6f496d958fd7",
   "metadata": {},
   "source": [
    "![Alt Text](shelter_image.jpg)\n",
    "\n",
    "In case you are wondering (because I had to remind myself) the above image is a shelter in a park in Allegheny County!"
   ]
  },
  {
   "cell_type": "code",
   "execution_count": 3,
   "id": "53c8a9e8-7fc9-425d-9501-47c92a8da82b",
   "metadata": {},
   "outputs": [],
   "source": [
    "import pandas as pd\n",
    "import numpy as np\n",
    "%matplotlib inline\n",
    "import matplotlib.pyplot as plt\n",
    "import geopandas"
   ]
  },
  {
   "cell_type": "markdown",
   "id": "04fb6f72-3fc0-4a9f-b428-aa7e5d6d7e31",
   "metadata": {},
   "source": [
    "Above, we run our imports to analyze the data.\n",
    "\n",
    "Below we begin data analysis by combining our metrics.\n",
    "First we read in each dataset.\n",
    "\n",
    "One issue we had is that the original WPRDC shelters dataset had locations as parks and street names, but not neighborhoods. so the dataset we use here, we added a neighborhood column\n",
    "to the shelters datasheet.."
   ]
  },
  {
   "cell_type": "code",
   "execution_count": 4,
   "id": "ef87402d-ce85-4605-8e61-bcccbbb90c30",
   "metadata": {
    "scrolled": true
   },
   "outputs": [],
   "source": [
    "#NOTE: each of these datasets has a column called \"neighborhood\"\n",
    "playground_equip = pd.read_csv(\"Playground_Equiptment.csv\")  \n",
    "pools = pd.read_csv(\"Pools.csv\")\n",
    "shel = pd.read_csv(\"shelters_with_neighborhood_locations.csv\")"
   ]
  },
  {
   "cell_type": "markdown",
   "id": "331b93b2-77c9-4442-a680-98f577e54566",
   "metadata": {},
   "source": [
    "Below, we group each entity (playground equiptment, pool, or shelter).\n",
    "\n",
    "We used these pandas methods:\n",
    ".groupby() sorts by neighborhood,\n",
    ".size() counts how many rows there are,\n",
    ".rename() gives the name of the resulting series."
   ]
  },
  {
   "cell_type": "code",
   "execution_count": 5,
   "id": "c035d31c-1572-42b1-8b89-8314f615b7d1",
   "metadata": {},
   "outputs": [
    {
     "name": "stdout",
     "output_type": "stream",
     "text": [
      "Playground equipment count:\n",
      "neighborhood\n",
      "Allegheny Center       15\n",
      "Allentown               4\n",
      "Banksville              6\n",
      "Bedford Dwellings       3\n",
      "Beechview              21\n",
      "                       ..\n",
      "Upper Lawrenceville     5\n",
      "West End                3\n",
      "West Oakland            1\n",
      "Westwood                2\n",
      "Windgap                 5\n",
      "Name: play_count, Length: 68, dtype: int64 \n",
      "\n",
      "pool count:\n",
      "neighborhood\n",
      "Allegheny Center            1\n",
      "Banksville                  1\n",
      "Bedford Dwellings           1\n",
      "Beechview                   1\n",
      "Beltzhoover                 1\n",
      "Bloomfield                  1\n",
      "Brighton Heights            1\n",
      "Brookline                   1\n",
      "Carrick                     1\n",
      "East Hills                  1\n",
      "Greenfield                  1\n",
      "Hazelwood                   1\n",
      "Highland Park               2\n",
      "Homewood South              1\n",
      "Lincoln Place               1\n",
      "Lincoln-Lemington-Belmar    1\n",
      "Mount Washington            1\n",
      "Perry North                 1\n",
      "Polish Hill                 1\n",
      "Shadyside                   1\n",
      "Sheraden                    1\n",
      "South Side Flats            2\n",
      "South Side Slopes           1\n",
      "Squirrel Hill South         1\n",
      "Troy Hill                   1\n",
      "Westwood                    1\n",
      "Name: pool_count, dtype: int64 \n",
      "\n",
      "shelter count:\n",
      "neighborhood\n",
      "Beltzhoover                  1\n",
      "Elliott                      1\n",
      "Fox Chapel                   1\n",
      "Highland Park               11\n",
      "Lincoln Place                1\n",
      "Lincoln–Lemington–Belmar     1\n",
      "Oakland                      2\n",
      "Perry North                  2\n",
      "Point Breeze                 1\n",
      "Regent Square                1\n",
      "Sheraden                     1\n",
      "Squirrel Hill                3\n",
      "Westwood                     1\n",
      "Name: shelter_count, dtype: int64 \n",
      "\n"
     ]
    }
   ],
   "source": [
    "pge_counts = (playground_equip\n",
    "             .groupby(\"neighborhood\")\n",
    "             .size()\n",
    "             .rename(\"play_count\"))\n",
    "#This groups playground equiptment entries by neighborhood and counts how many rows each neighborhood has\n",
    "#meaning it counts how many playground equiptment there are in each neighborhood\n",
    "\n",
    "print(f\"Playground equipment count:\\n{pge_counts} \\n\")\n",
    "\n",
    "\n",
    "# 2b. pools\n",
    "pool_counts = (pools\n",
    "               .groupby(\"neighborhood\")\n",
    "               .size()\n",
    "               .rename(\"pool_count\"))\n",
    "\n",
    "print(f\"pool count:\\n{pool_counts} \\n\")\n",
    "\n",
    "# 2c. shelters \n",
    "shel_counts = (shel\n",
    "               .groupby(\"neighborhood\")\n",
    "               .size()\n",
    "               .rename(\"shelter_count\"))\n",
    "print(f\"shelter count:\\n{shel_counts} \\n\")"
   ]
  },
  {
   "cell_type": "markdown",
   "id": "83868618-3687-4bb6-a8c6-70b8536edf99",
   "metadata": {},
   "source": [
    "Now that we have our counts, how do we combine them?\n",
    "\n",
    "The code below creates a list of **all** the neighborhoods that appear in any of our three datasets. \n",
    "It uses the `.index.union()` method to combine the index values from each count Series. \n",
    "Then, it initializes an empty DataFrame with this full set of neighborhoods as the index, preparing for future merging or data alignment.\n"
   ]
  },
  {
   "cell_type": "code",
   "execution_count": 6,
   "id": "0046e61c-641c-4ac3-9d48-04b06f61075b",
   "metadata": {},
   "outputs": [
    {
     "name": "stdout",
     "output_type": "stream",
     "text": [
      "Empty DataFrame\n",
      "Columns: []\n",
      "Index: [Allegheny Center, Allentown, Banksville, Bedford Dwellings, Beechview, Beltzhoover, Bloomfield, Bluff, Bon Air, Brighton Heights, Brookline, Carrick, Central Lawrenceville, Central Northside, Central Oakland, Crafton Heights, Crawford-Roberts, Duquesne Heights, East Allegheny, East Carnegie, East Hills, East Liberty, Elliott, Esplen, Fairywood, Fineview, Fox Chapel, Garfield, Greenfield, Hays, Hazelwood, Highland Park, Homewood North, Homewood South, Homewood West, Larimer, Lincoln Place, Lincoln-Lemington-Belmar, Lincoln–Lemington–Belmar, Lower Lawrenceville, Manchester, Marshall-Shadeland, Middle Hill, Morningside, Mount Washington, New Homestead, Oakland, Oakwood, Perry North, Perry South, Point Breeze, Point Breeze North, Polish Hill, Regent Square, Shadyside, Sheraden, South Oakland, South Side Flats, South Side Slopes, Spring Garden, Spring Hill-City View, Squirrel Hill, Squirrel Hill North, Squirrel Hill South, Stanton Heights, Strip District, Swisshelm Park, Terrace Village, Troy Hill, Upper Hill, Upper Lawrenceville, West End, West Oakland, Westwood, Windgap]\n",
      "\n",
      "[75 rows x 0 columns]\n"
     ]
    }
   ],
   "source": [
    "\n",
    "all_neighborhoods = pge_counts.index.union(pool_counts.index).union(shel_counts.index)\n",
    "df = pd.DataFrame(index=all_neighborhoods)\n",
    "\n",
    "print(df)"
   ]
  },
  {
   "cell_type": "markdown",
   "id": "4c2bb2dd-eee7-4831-b78d-ef02d41e02b3",
   "metadata": {},
   "source": [
    "As we can see, we now have a list of all overlapping neighborhoods in the datasets. \n",
    "\n",
    "In the code below, we add our count values into the dataframe.\n",
    "\n",
    "For example, the first line of code creates a new column in our dataframe called \"play_count\".\n",
    "It takes pge_counts (count of playground equiptment per neighborhood) and reindexes it to match the full list of neighborhoods (all_neighborhoods).\n"
   ]
  },
  {
   "cell_type": "code",
   "execution_count": 8,
   "id": "b3ed449e-2ca2-471d-bf38-842c447d19c4",
   "metadata": {},
   "outputs": [
    {
     "name": "stdout",
     "output_type": "stream",
     "text": [
      "neighborhood\n",
      "Allegheny Center       15\n",
      "Allentown               4\n",
      "Banksville              6\n",
      "Bedford Dwellings       3\n",
      "Beechview              21\n",
      "                       ..\n",
      "Upper Lawrenceville     5\n",
      "West End                3\n",
      "West Oakland            1\n",
      "Westwood                2\n",
      "Windgap                 5\n",
      "Name: play_count, Length: 75, dtype: int64\n"
     ]
    }
   ],
   "source": [
    " # 4. Add the counts into the DataFrame\n",
    "df[\"play_count\"] = pge_counts.reindex(all_neighborhoods, fill_value=0)\n",
    "df[\"pool_count\"] = pool_counts.reindex(all_neighborhoods, fill_value=0)\n",
    "df[\"shelter_count\"] = shel_counts.reindex(all_neighborhoods, fill_value=0)\n",
    "\n",
    "print(df[\"play_count\"])"
   ]
  },
  {
   "cell_type": "code",
   "execution_count": null,
   "id": "ca27694b-7530-456a-bf35-1d223c501e47",
   "metadata": {},
   "outputs": [],
   "source": [
    "# 5. Compute the weighted score\n",
    "WEIGHTS = {\n",
    "    \"pool_count\": 10,\n",
    "    \"shelter_count\": 5,\n",
    "    \"play_count\": 1\n",
    "}\n",
    "df[\"score\"] = (\n",
    "    df[\"pool_count\"] * WEIGHTS[\"pool_count\"] +\n",
    "    df[\"shelter_count\"] * WEIGHTS[\"shelter_count\"] +\n",
    "    df[\"play_count\"] * WEIGHTS[\"play_count\"]\n",
    ")\n",
    "\n"
   ]
  },
  {
   "cell_type": "code",
   "execution_count": null,
   "id": "89657ffb-6f70-4429-91fd-7c9f96eef5a4",
   "metadata": {},
   "outputs": [],
   "source": [
    "# 6. Sort and display top neighborhoods\n",
    "top = df.sort_values(\"score\", ascending=False)\n",
    "print(top.head(10))\n",
    "\n",
    "# 7. Optional: Plot the top 10 neighborhoods\n",
    "fig, ax = plt.subplots(figsize=(10, 5))\n",
    "top[\"score\"].head(10).plot(kind=\"bar\", ax=ax)\n",
    "ax.set_ylabel(\"Total Points\")\n",
    "ax.set_title(\"Top 10 Neighborhoods by Amenities Score\")\n",
    "plt.xticks(rotation=45, ha=\"right\")\n",
    "plt.tight_layout()\n",
    "plt.show()\n"
   ]
  }
 ],
 "metadata": {
  "kernelspec": {
   "display_name": "Python 3 (ipykernel)",
   "language": "python",
   "name": "python3"
  },
  "language_info": {
   "codemirror_mode": {
    "name": "ipython",
    "version": 3
   },
   "file_extension": ".py",
   "mimetype": "text/x-python",
   "name": "python",
   "nbconvert_exporter": "python",
   "pygments_lexer": "ipython3",
   "version": "3.11.5"
  }
 },
 "nbformat": 4,
 "nbformat_minor": 5
}
