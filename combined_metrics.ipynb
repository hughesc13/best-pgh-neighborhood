{
 "cells": [
  {
   "cell_type": "markdown",
   "id": "62e56313-fd92-4b59-bf05-277594dbed04",
   "metadata": {},
   "source": [
    "This is where we will do our final evaluation of combining all our metrics!"
   ]
  },
  {
   "cell_type": "markdown",
   "id": "6a8acb21-7eea-4ae3-9a78-7e53bd4bb05a",
   "metadata": {},
   "source": [
    "idea:\n",
    "a pool is worth 10 points\n",
    "a shelter is worth 5 points\n",
    "and a playground equiptment is worth 1 point\n",
    "the neighborhood with highest total points wins"
   ]
  }
 ],
 "metadata": {
  "kernelspec": {
   "display_name": "Python 3 (ipykernel)",
   "language": "python",
   "name": "python3"
  },
  "language_info": {
   "codemirror_mode": {
    "name": "ipython",
    "version": 3
   },
   "file_extension": ".py",
   "mimetype": "text/x-python",
   "name": "python",
   "nbconvert_exporter": "python",
   "pygments_lexer": "ipython3",
   "version": "3.11.5"
  }
 },
 "nbformat": 4,
 "nbformat_minor": 5
}
