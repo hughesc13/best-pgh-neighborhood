{
 "cells": [
  {
   "cell_type": "code",
   "execution_count": null,
   "id": "14083b90-e03b-411a-99c2-d2d3b4595672",
   "metadata": {},
   "outputs": [],
   "source": [
    "#this is where we will do our final evaluation of commbining all our metrics!"
   ]
  }
 ],
 "metadata": {
  "kernelspec": {
   "display_name": "Python 3 (ipykernel)",
   "language": "python",
   "name": "python3"
  },
  "language_info": {
   "codemirror_mode": {
    "name": "ipython",
    "version": 3
   },
   "file_extension": ".py",
   "mimetype": "text/x-python",
   "name": "python",
   "nbconvert_exporter": "python",
   "pygments_lexer": "ipython3",
   "version": "3.11.5"
  }
 },
 "nbformat": 4,
 "nbformat_minor": 5
}
